{
 "cells": [
  {
   "cell_type": "markdown",
   "metadata": {},
   "source": [
    "# In this notebook, we will implement regression problem."
   ]
  },
  {
   "cell_type": "code",
   "execution_count": 33,
   "metadata": {},
   "outputs": [],
   "source": [
    "import numpy as np \n",
    "import pandas as pd \n",
    "import csv\n",
    "from sklearn.linear_model import LinearRegression\n",
    "from sklearn.metrics import mean_squared_error\n",
    "from sklearn import preprocessing\n",
    "from sklearn.preprocessing import PolynomialFeatures\n",
    "from sklearn.model_selection import train_test_split\n",
    "import matplotlib.pyplot as plt\n"
   ]
  },
  {
   "cell_type": "code",
   "execution_count": 34,
   "metadata": {},
   "outputs": [],
   "source": [
    "df = pd.read_csv(\"train_linear.csv\")"
   ]
  },
  {
   "cell_type": "code",
   "execution_count": 35,
   "metadata": {},
   "outputs": [],
   "source": [
    "df\n",
    "x=df[[\"x-inv\", \"y-inv\"]]\n",
    "x=x/x.abs().max()\n",
    "y = df[[\"force\"]]\n",
    "\n",
    "poly = PolynomialFeatures(13)\n",
    "x = poly.fit_transform(x)"
   ]
  },
  {
   "cell_type": "code",
   "execution_count": 36,
   "metadata": {},
   "outputs": [
    {
     "name": "stdout",
     "output_type": "stream",
     "text": [
      "(1000, 105)\n"
     ]
    }
   ],
   "source": [
    "lr = LinearRegression()\n",
    "print(x.shape)\n"
   ]
  },
  {
   "cell_type": "code",
   "execution_count": 37,
   "metadata": {},
   "outputs": [
    {
     "name": "stdout",
     "output_type": "stream",
     "text": [
      "[[ 6.02885234e+11  8.55316963e+01 -3.37136364e+00 -2.56384393e+01\n",
      "  -9.90924458e+00  1.07798144e+02 -1.03886168e+03 -2.23859961e+01\n",
      "  -5.16264279e+01  5.53445806e+01  1.62036498e+02  3.12900116e+01\n",
      "   1.74792101e+02  8.93110798e+01  5.08153812e+01  3.54727268e+03\n",
      "   1.70599642e+02 -1.61300840e+02  1.08249197e+02  3.64690113e+02\n",
      "  -3.25708970e+02 -4.18623330e+02 -2.92676657e+02 -7.29984748e+02\n",
      "   3.44186027e+02 -4.18681796e+02 -5.23154799e+02  9.11615362e+01\n",
      "  -4.97706468e+03 -7.80212726e+02  1.29326658e+03  9.71261072e+01\n",
      "  -4.40969513e+02 -4.59301135e+02 -7.14896097e+02  8.85285573e+02\n",
      "   4.87130095e+02  7.82504557e+02  1.49776713e+03 -7.04513951e+02\n",
      "   4.78057225e+02 -3.62901116e+02  8.55691657e+02  1.12111020e+03\n",
      "  -5.97361554e+02  3.09997331e+03  1.78764220e+03 -2.47080421e+03\n",
      "  -1.24313633e+03 -1.81112054e+01  1.30789835e+03  3.23489263e+02\n",
      "   2.27723512e+02  7.71909935e+02 -1.16903589e+03 -2.38217711e+02\n",
      "  -7.94591075e+02 -1.28380686e+03  3.46764702e+02 -6.53473597e+02\n",
      "   9.37332128e+02 -1.95689791e+02 -2.68899545e+02 -8.92568903e+02\n",
      "  -9.31888369e+02  8.37291011e+02 -7.67074592e+02 -1.82749181e+03\n",
      "   1.57558830e+03  1.47176526e+03  1.26093471e+03 -2.22456037e+02\n",
      "  -9.86465601e+02 -1.56931876e+03  6.10975635e+02  3.87962820e+02\n",
      "  -6.04274622e+02  7.29012030e+02  3.19953559e+01  2.82959723e+02\n",
      "   3.58096389e+02 -6.63705301e+01  4.37154566e+02 -1.82885209e+02\n",
      "  -1.36257514e+02 -4.00450031e+02  2.05438649e+02  3.60397843e+02\n",
      "   3.13428467e+02  2.43141530e+02 -3.69285686e+02  6.04304898e+01\n",
      "   6.72508169e+02 -1.78712384e+02 -4.24496541e+02 -1.04746056e+03\n",
      "  -4.78441986e+02  7.36807259e+02  7.47554863e+02 -2.19873796e+02\n",
      "   3.01408322e+02 -2.63352040e+02 -2.49982674e+02  2.16790114e+02\n",
      "  -1.72831958e+02]]\n"
     ]
    }
   ],
   "source": [
    "lr.fit(x,y)\n",
    "print(lr.coef_)\n",
    "df_test = pd.read_csv(\"test_linear.csv\")\n",
    "x=df_test[[\"x-inv\", \"y-inv\"]]\n",
    "x=x/x.abs().max()\n",
    "x = poly.fit_transform(x)\n",
    "\n",
    "y_final = lr.predict(x)\n",
    "\n",
    "y_test = pd.DataFrame(y_final, columns=[\"force\"])\n",
    "y_test[\"ID\"] = df_test[[\"ID\"]]\n",
    "y_test = y_test[[\"ID\",\"force\"]]\n",
    "y_test.to_csv(\"sub1.csv\", index=False)"
   ]
  }
 ],
 "metadata": {
  "interpreter": {
   "hash": "ff94885aa2d97705a9dae03869c2058fa855d1acd9df351499300343e2e591a2"
  },
  "kernelspec": {
   "display_name": "Python 3.8.12 64-bit",
   "name": "python3"
  },
  "language_info": {
   "codemirror_mode": {
    "name": "ipython",
    "version": 3
   },
   "file_extension": ".py",
   "mimetype": "text/x-python",
   "name": "python",
   "nbconvert_exporter": "python",
   "pygments_lexer": "ipython3",
   "version": "3.8.12"
  },
  "orig_nbformat": 4
 },
 "nbformat": 4,
 "nbformat_minor": 2
}

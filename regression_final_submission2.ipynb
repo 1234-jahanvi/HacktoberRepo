{
 "cells": [
  {
   "cell_type": "markdown",
   "metadata": {},
   "source": [
    "# In this notebook, we will implement regression problem."
   ]
  },
  {
   "cell_type": "code",
   "execution_count": 1,
   "metadata": {},
   "outputs": [],
   "source": [
    "import numpy as np \n",
    "import pandas as pd \n",
    "import csv\n",
    "from sklearn.linear_model import LinearRegression\n",
    "from sklearn.metrics import mean_squared_error\n",
    "from sklearn import preprocessing\n",
    "from sklearn.preprocessing import PolynomialFeatures\n",
    "from sklearn.model_selection import train_test_split\n",
    "import matplotlib.pyplot as plt\n"
   ]
  },
  {
   "cell_type": "code",
   "execution_count": 2,
   "metadata": {},
   "outputs": [],
   "source": [
    "df = pd.read_csv(\"train_linear.csv\")"
   ]
  },
  {
   "cell_type": "code",
   "execution_count": 3,
   "metadata": {},
   "outputs": [],
   "source": [
    "df\n",
    "x=df[[\"x-inv\", \"y-inv\"]]\n",
    "x=x/x.abs().max()\n",
    "y = df[[\"force\"]]\n",
    "\n",
    "poly = PolynomialFeatures(5)\n",
    "x = poly.fit_transform(x)"
   ]
  },
  {
   "cell_type": "code",
   "execution_count": 4,
   "metadata": {},
   "outputs": [
    {
     "name": "stdout",
     "output_type": "stream",
     "text": [
      "(1000, 21)\n"
     ]
    }
   ],
   "source": [
    "lr = LinearRegression()\n",
    "print(x.shape)\n"
   ]
  },
  {
   "cell_type": "code",
   "execution_count": 5,
   "metadata": {},
   "outputs": [
    {
     "name": "stdout",
     "output_type": "stream",
     "text": [
      "[[ 0.00000000e+00 -9.61182138e-01 -3.38792102e+00 -1.57564275e+00\n",
      "  -1.28190282e+00  1.25406471e+02 -2.34515407e+01  6.71699310e+00\n",
      "   7.91292283e+00  7.36194746e+00  1.08766448e+00  1.61371869e+00\n",
      "   1.96906663e+00 -3.27797062e-01 -7.70866135e-01  3.95488630e+01\n",
      "  -3.56316279e+00  1.10097873e-01 -3.94827678e+00 -6.65375331e+00\n",
      "  -4.82006063e+00]]\n"
     ]
    }
   ],
   "source": [
    "lr.fit(x,y)\n",
    "print(lr.coef_)\n",
    "df_test = pd.read_csv(\"test_linear.csv\")\n",
    "x=df_test[[\"x-inv\", \"y-inv\"]]\n",
    "x=x/x.abs().max()\n",
    "x = poly.fit_transform(x)\n",
    "\n",
    "y_final = lr.predict(x)\n",
    "\n",
    "y_test = pd.DataFrame(y_final, columns=[\"force\"])\n",
    "y_test[\"ID\"] = df_test[[\"ID\"]]\n",
    "y_test = y_test[[\"ID\",\"force\"]]\n",
    "y_test.to_csv(\"sub1.csv\", index=False)"
   ]
  }
 ],
 "metadata": {
  "interpreter": {
   "hash": "ff94885aa2d97705a9dae03869c2058fa855d1acd9df351499300343e2e591a2"
  },
  "kernelspec": {
   "display_name": "Python 3.8.12 64-bit",
   "name": "python3"
  },
  "language_info": {
   "codemirror_mode": {
    "name": "ipython",
    "version": 3
   },
   "file_extension": ".py",
   "mimetype": "text/x-python",
   "name": "python",
   "nbconvert_exporter": "python",
   "pygments_lexer": "ipython3",
   "version": "3.8.12"
  },
  "orig_nbformat": 4
 },
 "nbformat": 4,
 "nbformat_minor": 2
}
